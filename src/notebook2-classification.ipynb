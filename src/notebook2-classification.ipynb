{
 "cells": [
  {
   "cell_type": "code",
   "execution_count": 56,
   "outputs": [],
   "source": [
    "import importer\n",
    "import numpy as np\n",
    "import matplotlib.pyplot as plt"
   ],
   "metadata": {
    "collapsed": false,
    "pycharm": {
     "name": "#%%\n"
    }
   }
  },
  {
   "cell_type": "markdown",
   "source": [
    "# Creating a Classifier\n",
    "\n",
    "The goal of this notebook will be to create a highly accurate classifier between MTB rides and road rides. Although this differentiation is not recorded explicitly in the dataset a field 'Activity Gear' records which bike I was riding. When I go for an MTB ride I will always use my mountain bike, the 'Roscoe 8'. Similarly, for road rides, I will always use the 'Carrera Zelos' So if the classifier can model which bike I am riding then it can model which type of ride I am doing.\n",
    "\n",
    "To achieve this goal will require a three stage approach: pre-processing, feature selection, and classification.\n",
    "\n",
    "\n",
    "## Pre-processing\n",
    "\n",
    "In the interest of brevity, all pre-processing for this dataset has been done in the importer module inside this repository. This module servers a few purposes:\n",
    "- Removes all rows where there is a column containing no data.\n",
    "- Allows partitioning of data\n",
    "- Converts the 'Activity Date' field into the seconds from the Unix epoch\n",
    "\n",
    "A limitation of this classifier is that it will only be able to use numerical data. This can immediately remove all attributes that are strings or booleans. We can also remove any attributes which where only recorded for a few activities."
   ],
   "metadata": {
    "collapsed": false
   }
  },
  {
   "cell_type": "code",
   "execution_count": 59,
   "outputs": [
    {
     "name": "stdout",
     "output_type": "stream",
     "text": [
      "This leaves us with the following list of 36 headers:  ['Activity ID', 'Elapsed Time', 'Distance', 'Elapsed Time2', 'Moving Time', 'Distance3', 'Max Speed', 'Average Speed', 'Elevation Gain', 'Elevation Loss', 'Elevation Low', 'Elevation High', 'Max Grade', 'Average Grade', 'Calories', 'Perceived Relative Effort', 'From Upload', 'Weather Observation Time', 'Weather Condition', 'Weather Temperature', 'Apparent Temperature', 'Dewpoint', 'Humidity', 'Weather Pressure', 'Wind Speed', 'Wind Gust', 'Wind Bearing', 'Precipitation Intensity', 'Sunrise Time', 'Sunset Time', 'Moon Phase', 'Precipitation Probability', 'Cloud Cover', 'Weather Visibility', 'UV Index', 'Weather Ozone'] \n",
      "\n",
      "This reduces the number of activities to  97\n"
     ]
    }
   ],
   "source": [
    "data_set = importer.Data()\n",
    "\n",
    "# Get all headers that contain numeric data\n",
    "headers = []\n",
    "for i in range(len(data_set.headers)):\n",
    "    if data_set.types[i] != 'string' and data_set.types[i] != 'bool':\n",
    "        headers.append(data_set.headers[i])\n",
    "\n",
    "# Remove headers which have not been recorded for many activities\n",
    "for header in headers:\n",
    "    if len(data_set.get_data([header])[header]) < 120:\n",
    "        headers.remove(header)\n",
    "\n",
    "features = data_set.get_data(headers)\n",
    "print('This leaves us with the following list of', len(headers), 'headers: ', headers, '\\n')\n",
    "print('This reduces the number of activities to ', len(features[headers[0]]))"
   ],
   "metadata": {
    "collapsed": false,
    "pycharm": {
     "name": "#%%\n"
    }
   }
  },
  {
   "cell_type": "markdown",
   "source": [
    "## Feature Selection\n",
    "\n",
    "Now that we have a preprocessed subset of the dataset we need to perform **dimensionality reduction** to remove any features which will not be as useful to the classifier, this can be done via ** Heuristic Feature Selection**. To do this it is assumed that the features are independent (although in reality this is not the case) and a top-down approach can be taken by removing the worst features."
   ],
   "metadata": {
    "collapsed": false,
    "pycharm": {
     "name": "#%% md\n"
    }
   }
  },
  {
   "cell_type": "code",
   "execution_count": null,
   "outputs": [],
   "source": [],
   "metadata": {
    "collapsed": false,
    "pycharm": {
     "name": "#%%\n"
    }
   }
  }
 ],
 "metadata": {
  "kernelspec": {
   "display_name": "Python 3",
   "language": "python",
   "name": "python3"
  },
  "language_info": {
   "codemirror_mode": {
    "name": "ipython",
    "version": 2
   },
   "file_extension": ".py",
   "mimetype": "text/x-python",
   "name": "python",
   "nbconvert_exporter": "python",
   "pygments_lexer": "ipython2",
   "version": "2.7.6"
  }
 },
 "nbformat": 4,
 "nbformat_minor": 0
}