{
 "cells": [
  {
   "cell_type": "code",
   "execution_count": 15,
   "outputs": [],
   "source": [
    "import importer\n",
    "import matplotlib.pyplot as plt\n",
    "import torch as t\n",
    "from torch.distributions import Bernoulli"
   ],
   "metadata": {
    "collapsed": false,
    "pycharm": {
     "name": "#%%\n"
    }
   }
  },
  {
   "cell_type": "markdown",
   "source": [
    "# Creating a Classifier\n",
    "\n",
    "The goal of this notebook will be to create a highly accurate classifier between MTB rides and road rides. Although this differentiation is not recorded explicitly in the dataset a field 'Activity Gear' records which bike I was riding. When I go for an MTB ride I will always use my mountain bike, the 'Roscoe 8'. Similarly, for road rides, I will always use the 'Carrera Zelos' So if the classifier can model which bike I am riding then it can model which type of ride I am doing.\n",
    "\n",
    "To achieve this goal will require a three stage approach: pre-processing, feature selection, and classification.\n",
    "\n",
    "\n",
    "## Pre-processing\n",
    "\n",
    "In the interest of brevity, all pre-processing for this dataset has been done in the importer module inside this repository. This module servers a few purposes:\n",
    "- Removes all rows where there is a column containing no data.\n",
    "- Allows partitioning of data\n",
    "- Converts the 'Activity Date' field into the seconds from the Unix epoch\n",
    "\n",
    "A limitation of this classifier is that it will only be able to use numerical data. This can immediately remove all attributes that are strings or booleans. We can also remove any attributes which where only recorded for a few activities."
   ],
   "metadata": {
    "collapsed": false,
    "pycharm": {
     "name": "#%% md\n"
    }
   }
  },
  {
   "cell_type": "code",
   "execution_count": 16,
   "outputs": [
    {
     "name": "stdout",
     "output_type": "stream",
     "text": [
      "This leaves us with the following list of 3 headers:  ['Average Speed', 'Average Watts', 'Activity Gear'] \n",
      "\n",
      "This reduces the number of activities to  79\n"
     ]
    }
   ],
   "source": [
    "data_set = importer.Data()\n",
    "\n",
    "# Get all headers that contain numeric data\n",
    "headers = []\n",
    "for i in range(len(data_set.headers)):\n",
    "    if data_set.types[i] != 'string' and data_set.types[i] != 'bool':\n",
    "        headers.append(data_set.headers[i])\n",
    "\n",
    "# Remove headers which have not been recorded for many activities\n",
    "for header in headers:\n",
    "    if len(data_set.get_data([header])[header]) < 100:\n",
    "        headers.remove(header)\n",
    "\n",
    "headers.append('Activity Gear')\n",
    "# Manually select headers for debugging\n",
    "headers = ['Average Speed', 'Average Watts', 'Activity Gear']\n",
    "\n",
    "features = data_set.get_data(headers)\n",
    "print('This leaves us with the following list of', len(headers), 'headers: ', headers, '\\n')\n",
    "print('This reduces the number of activities to ', len(features[headers[0]]))"
   ],
   "metadata": {
    "collapsed": false,
    "pycharm": {
     "name": "#%%\n"
    }
   }
  },
  {
   "cell_type": "markdown",
   "source": [
    "## A basic classifier\n",
    "\n",
    "The goal of the classifier is to predict a distribution over the defined classes $y_\\lambda$ based on an input $\\textbf{x}_\\lambda$. In our case we only have two classes, so we can model this using a Bernoulli distribution.\n",
    "\n",
    "$$P(y_\\lambda|\\textbf{x}_\\lambda)=Bernoulli(y_\\lambda;p=\\sigma(\\textbf{x}_\\lambda\\cdot\\textbf{w}))$$\n",
    "$$P(\\textbf{y}|\\textbf{X})=\\prod_\\lambda P(y_\\lambda|\\textbf{x}_\\lambda) = Bernoulli(y_\\lambda;p=\\sigma(\\textbf{Xw}))$$"
   ],
   "metadata": {
    "collapsed": false,
    "pycharm": {
     "name": "#%% md\n"
    }
   }
  },
  {
   "cell_type": "code",
   "execution_count": 17,
   "outputs": [],
   "source": [
    "# Format the data so that it can be used by PyTorch\n",
    "X, Y = importer.separate_x_y(features, 'Activity Gear')\n",
    "Y, class_code = importer.code_classes(Y)\n",
    "X = t.tensor(X).float()\n",
    "Y = t.tensor(Y).float()\n",
    "Y = t.unsqueeze(Y, 0).t()\n",
    "\n",
    "# Add a 1 value to the end of each activity to represent an offset from the origin\n",
    "X_w = t.cat([X, t.ones(X.shape[0], 1)], -1)\n",
    "\n",
    "# Split the data into training and testing\n",
    "partition = int(3*len(features[headers[0]])/4)\n",
    "X_train = X_w[:partition, :]\n",
    "Y_train = Y[:partition, :]\n",
    "X_test = X_w[partition:, :]\n",
    "Y_test = Y[partition:, :]\n",
    "\n",
    "# Define a weight for how much each feature effects the classification boundary\n",
    "W = t.randn((len(X_train[0]),1), requires_grad=True)/100"
   ],
   "metadata": {
    "collapsed": false,
    "pycharm": {
     "name": "#%%\n"
    }
   }
  },
  {
   "cell_type": "code",
   "execution_count": 18,
   "outputs": [
    {
     "name": "stdout",
     "output_type": "stream",
     "text": [
      "-39.6982421875\n",
      "-7.510157047363464e-06\n",
      "-6.6756979322235566e-06\n",
      "-5.960446742392378e-06\n",
      "-5.483612312673358e-06\n",
      "-5.006777428206988e-06\n",
      "-4.6491513785440475e-06\n",
      "-4.291525328881107e-06\n",
      "-3.933898824470816e-06\n",
      "-3.6954811548639555e-06\n",
      "-3.576272320060525e-06\n",
      "-3.3378546504536644e-06\n",
      "-3.099436753473128e-06\n",
      "-2.9802276912960224e-06\n",
      "-2.861018856492592e-06\n",
      "-2.7418097943154862e-06\n",
      "-2.622600959512056e-06\n",
      "-2.50339189733495e-06\n",
      "-2.3841830625315197e-06\n",
      "-2.264974000354414e-06\n",
      "-2.264974000354414e-06\n",
      "-2.145764938177308e-06\n",
      "-2.0265558760002023e-06\n",
      "-2.0265558760002023e-06\n",
      "-1.9073468138230965e-06\n",
      "-1.9073468138230965e-06\n",
      "-1.7881377516459906e-06\n",
      "-1.7881377516459906e-06\n",
      "-1.6689286894688848e-06\n",
      "-1.6689286894688848e-06\n",
      "-1.6689286894688848e-06\n",
      "-1.5497195136049413e-06\n",
      "-1.5497195136049413e-06\n",
      "-1.4305104514278355e-06\n",
      "-1.4305104514278355e-06\n",
      "-1.4305104514278355e-06\n",
      "-1.311301275563892e-06\n",
      "-1.311301275563892e-06\n",
      "-1.311301275563892e-06\n",
      "-1.311301275563892e-06\n",
      "-1.311301275563892e-06\n",
      "-1.311301275563892e-06\n",
      "-1.1920922133867862e-06\n",
      "-1.1920922133867862e-06\n",
      "-1.1920922133867862e-06\n",
      "-1.1920922133867862e-06\n",
      "-1.1920922133867862e-06\n",
      "-1.1920922133867862e-06\n",
      "-1.0728830375228426e-06\n",
      "-1.0728830375228426e-06\n"
     ]
    }
   ],
   "source": [
    "for i in range(50000):\n",
    "    L = Bernoulli(logits=X_train@W).log_prob(Y_train).sum()\n",
    "\n",
    "    dW = t.autograd.grad(outputs=L, inputs=(W,))[0]\n",
    "    if 0==i % 1000:\n",
    "        print(L.item())\n",
    "    W.data += 0.001*dW"
   ],
   "metadata": {
    "collapsed": false,
    "pycharm": {
     "name": "#%%\n"
    }
   }
  },
  {
   "cell_type": "code",
   "execution_count": 19,
   "outputs": [
    {
     "name": "stdout",
     "output_type": "stream",
     "text": [
      "Training correct\n",
      "59/59 = 100.0%\n",
      "Test correct\n",
      "20/20 = 100.0%\n"
     ]
    }
   ],
   "source": [
    "def class_error(X, Y):\n",
    "    Py = Bernoulli(logits=X@W)\n",
    "    pred = 0.5 < Py.probs\n",
    "    N_correct = (pred == Y).sum()\n",
    "    print(f\"{N_correct}/{X.shape[0]} = {100.*N_correct/X.shape[0]}%\")\n",
    "\n",
    "print(\"Training correct\")\n",
    "class_error(X_train, Y_train)\n",
    "\n",
    "print(\"Test correct\")\n",
    "class_error(X_test, Y_test)"
   ],
   "metadata": {
    "collapsed": false,
    "pycharm": {
     "name": "#%%\n"
    }
   }
  },
  {
   "cell_type": "code",
   "execution_count": 20,
   "outputs": [
    {
     "data": {
      "text/plain": "<Figure size 432x288 with 1 Axes>",
      "image/png": "[encoded data removed]"
     },
     "metadata": {
      "needs_background": "light"
     },
     "output_type": "display_data"
    }
   ],
   "source": [
    "feature1 = 0\n",
    "feature2 = 1\n",
    "\n",
    "fig, ax = plt.subplots()\n",
    "ax.set_xlabel(headers[feature1])\n",
    "ax.set_ylabel(headers[feature2])\n",
    "ax.scatter(X[:, feature1], X[:, feature2], c=Y)\n",
    "\n",
    "x0range = t.linspace(*ax.get_xlim(), 500)\n",
    "x1range = t.linspace(*ax.get_ylim(), 500)\n",
    "\n",
    "x0s, x1s = t.meshgrid(x0range, x1range)\n",
    "xs = t.stack([x0s, x1s, t.ones(500, 500)], -1)\n",
    "\n",
    "W_reduce = t.tensor([W[feature1], W[feature2], W[len(W)-1]])\n",
    "W_reduce = t.unsqueeze(W_reduce, 0).t()\n",
    "\n",
    "ps = Bernoulli(logits=xs@W_reduce.detach()).probs[:, :, 0]\n",
    "ax.contour(x0s, x1s, 0.5<ps);"
   ],
   "metadata": {
    "collapsed": false,
    "pycharm": {
     "name": "#%%\n"
    }
   }
  },
  {
   "cell_type": "markdown",
   "source": [
    "## Feature Selection\n",
    "\n",
    "Now that we have a preprocessed subset of the dataset we need to perform **dimensionality reduction** to remove any features which will not be as useful to the classifier, this can be done via **Heuristic Feature Selection**. To do this it is assumed that the features are independent (although in reality this is not the case) and a top-down approach can be taken by removing the worst features."
   ],
   "metadata": {
    "collapsed": false,
    "pycharm": {
     "name": "#%% md\n"
    }
   }
  },
  {
   "cell_type": "code",
   "execution_count": 20,
   "outputs": [],
   "source": [],
   "metadata": {
    "collapsed": false,
    "pycharm": {
     "name": "#%%\n"
    }
   }
  }
 ],
 "metadata": {
  "kernelspec": {
   "display_name": "Python 3",
   "language": "python",
   "name": "python3"
  },
  "language_info": {
   "codemirror_mode": {
    "name": "ipython",
    "version": 2
   },
   "file_extension": ".py",
   "mimetype": "text/x-python",
   "name": "python",
   "nbconvert_exporter": "python",
   "pygments_lexer": "ipython2",
   "version": "2.7.6"
  }
 },
 "nbformat": 4,
 "nbformat_minor": 0
}