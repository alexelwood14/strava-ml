{
 "cells": [
  {
   "cell_type": "code",
   "execution_count": 65,
   "outputs": [],
   "source": [
    "import torch\n",
    "\n",
    "import importer\n",
    "import numpy as np\n",
    "import matplotlib.pyplot as plt\n",
    "import torch as t\n",
    "from torch.distributions import Normal, Categorical, Bernoulli\n",
    "from torch.distributions import MultivariateNormal as MvNormal"
   ],
   "metadata": {
    "collapsed": false,
    "pycharm": {
     "name": "#%%\n"
    }
   }
  },
  {
   "cell_type": "markdown",
   "source": [
    "# Creating a Classifier\n",
    "\n",
    "The goal of this notebook will be to create a highly accurate classifier between MTB rides and road rides. Although this differentiation is not recorded explicitly in the dataset a field 'Activity Gear' records which bike I was riding. When I go for an MTB ride I will always use my mountain bike, the 'Roscoe 8'. Similarly, for road rides, I will always use the 'Carrera Zelos' So if the classifier can model which bike I am riding then it can model which type of ride I am doing.\n",
    "\n",
    "To achieve this goal will require a three stage approach: pre-processing, feature selection, and classification.\n",
    "\n",
    "\n",
    "## Pre-processing\n",
    "\n",
    "In the interest of brevity, all pre-processing for this dataset has been done in the importer module inside this repository. This module servers a few purposes:\n",
    "- Removes all rows where there is a column containing no data.\n",
    "- Allows partitioning of data\n",
    "- Converts the 'Activity Date' field into the seconds from the Unix epoch\n",
    "\n",
    "A limitation of this classifier is that it will only be able to use numerical data. This can immediately remove all attributes that are strings or booleans. We can also remove any attributes which where only recorded for a few activities."
   ],
   "metadata": {
    "collapsed": false
   }
  },
  {
   "cell_type": "code",
   "execution_count": 66,
   "outputs": [
    {
     "name": "stdout",
     "output_type": "stream",
     "text": [
      "This leaves us with the following list of 39 headers:  ['Activity ID', 'Elapsed Time', 'Distance', 'Elapsed Time2', 'Moving Time', 'Distance3', 'Max Speed', 'Average Speed', 'Elevation Gain', 'Elevation Loss', 'Elevation Low', 'Elevation High', 'Max Grade', 'Average Grade', 'Average Watts', 'Calories', 'Perceived Exertion', 'Perceived Relative Effort', 'From Upload', 'Weather Observation Time', 'Weather Condition', 'Weather Temperature', 'Apparent Temperature', 'Dewpoint', 'Humidity', 'Weather Pressure', 'Wind Speed', 'Wind Gust', 'Wind Bearing', 'Precipitation Intensity', 'Sunrise Time', 'Sunset Time', 'Moon Phase', 'Precipitation Probability', 'Cloud Cover', 'Weather Visibility', 'UV Index', 'Weather Ozone', 'Activity Gear'] \n",
      "\n",
      "This reduces the number of activities to  67\n"
     ]
    }
   ],
   "source": [
    "data_set = importer.Data()\n",
    "\n",
    "# Get all headers that contain numeric data\n",
    "headers = []\n",
    "for i in range(len(data_set.headers)):\n",
    "    if data_set.types[i] != 'string' and data_set.types[i] != 'bool':\n",
    "        headers.append(data_set.headers[i])\n",
    "\n",
    "# Remove headers which have not been recorded for many activities\n",
    "for header in headers:\n",
    "    if len(data_set.get_data([header])[header]) < 100:\n",
    "        headers.remove(header)\n",
    "\n",
    "headers.append('Activity Gear')\n",
    "\n",
    "features = data_set.get_data(headers)\n",
    "print('This leaves us with the following list of', len(headers), 'headers: ', headers, '\\n')\n",
    "print('This reduces the number of activities to ', len(features[headers[0]]))"
   ],
   "metadata": {
    "collapsed": false,
    "pycharm": {
     "name": "#%%\n"
    }
   }
  },
  {
   "cell_type": "markdown",
   "source": [
    "## A basic classifier\n",
    "\n",
    "The goal of the classifier is to predict a distribution over the defined classes $y_\\lambda$ based on an input $\\textbf{x}_\\lambda$. In our case we only have two classes, so we can model this using a Bernoulli distribution.\n",
    "\n",
    "$$P(y_\\lambda|\\textbf{x}_\\lambda)=Bernoulli(y_\\lambda;p=\\sigma(\\textbf{x}_\\lambda\\cdot\\textbf{w}))$$\n",
    "$$P(\\textbf{y}|\\textbf{X})=\\prod_\\lambda P(y_\\lambda|\\textbf{x}_\\lambda) = Bernoulli(y_\\lambda;p=\\sigma(\\textbf{Xw}))$$"
   ],
   "metadata": {
    "collapsed": false,
    "pycharm": {
     "name": "#%% md\n"
    }
   }
  },
  {
   "cell_type": "code",
   "execution_count": 67,
   "outputs": [
    {
     "data": {
      "text/plain": "<Figure size 432x288 with 1 Axes>",
      "image/png": "[encoded data removed]"
     },
     "metadata": {
      "needs_background": "light"
     },
     "output_type": "display_data"
    }
   ],
   "source": [
    "x_data = 'Wind Gust'\n",
    "y_data = 'Average Watts'\n",
    "\n",
    "features1 = importer.partition(features, 'Activity Gear')\n",
    "\n",
    "X_mtb = features1['Roscoe 8'][x_data]\n",
    "Y_mtb = features1['Roscoe 8'][y_data]\n",
    "X_road = features1['Carrera Zelos'][x_data]\n",
    "Y_road = features1['Carrera Zelos'][y_data]\n",
    "fig0, ax = plt.subplots()\n",
    "ax.scatter(X_mtb, Y_mtb, c='blue', label='MTB')\n",
    "ax.scatter(X_road, Y_road, c='red', label='Road')\n",
    "ax.set_xlabel(x_data)\n",
    "ax.set_ylabel(y_data)\n",
    "ax.legend()\n",
    "plt.show()"
   ],
   "metadata": {
    "collapsed": false,
    "pycharm": {
     "name": "#%%\n"
    }
   }
  },
  {
   "cell_type": "code",
   "execution_count": 68,
   "outputs": [],
   "source": [
    "# Format the data so that it can be used by PyTorch\n",
    "X, Y = importer.separate_x_y(features, 'Activity Gear')\n",
    "Y, class_code = importer.code_classes(Y)\n",
    "X = t.tensor(X).float()\n",
    "Y = t.tensor(Y).float()\n",
    "Y = t.unsqueeze(Y, 0).t()\n",
    "\n",
    "# Add a 1 value to the end of each activity to represent an offset from the origin\n",
    "X_w = t.cat([X, t.ones(X.shape[0], 1)], -1)\n",
    "\n",
    "# Split the data into training and testing\n",
    "partition = 50\n",
    "X_train = X_w[:partition, :]\n",
    "Y_train = Y[:partition, :]\n",
    "X_test = X_w[partition:, :]\n",
    "Y_test = Y[partition:, :]\n",
    "\n",
    "# Define a weight for how much each feature effects the classification boundary\n",
    "W = t.randn((39,1), requires_grad=True)/100"
   ],
   "metadata": {
    "collapsed": false,
    "pycharm": {
     "name": "#%%\n"
    }
   }
  },
  {
   "cell_type": "code",
   "execution_count": 69,
   "outputs": [
    {
     "name": "stdout",
     "output_type": "stream",
     "text": [
      "-1203414272.0\n",
      "-3.176886291220398e+18\n",
      "-2.8387097747432407e+18\n",
      "-2.809817357944357e+18\n",
      "-3.4412237299447235e+18\n",
      "-5.148414268793684e+18\n",
      "-2.5509967188123976e+18\n",
      "-2.5219492708739973e+18\n",
      "-2.4974290620629647e+18\n",
      "-2.758970442717856e+18\n",
      "-2.824032119146152e+18\n",
      "-3.438703924171768e+18\n",
      "-5.138838072271569e+18\n",
      "-2.5566311661489357e+18\n",
      "-5.131467496074772e+18\n",
      "-2.538044746715103e+18\n",
      "-2.508993450486006e+18\n",
      "-2.774204176320692e+18\n",
      "-3.01735347622196e+18\n",
      "-2.809173319008387e+18\n",
      "-3.4393880952821514e+18\n",
      "-5.144573124922049e+18\n",
      "-2.543681393074897e+18\n",
      "-2.5225523530018324e+18\n",
      "-2.7883403224411013e+18\n",
      "-2.855788763735392e+18\n",
      "-3.4751895682720727e+18\n",
      "-3.4368691141429166e+18\n",
      "-3.4097315179019633e+18\n",
      "-2.557241944858165e+18\n",
      "-2.528200269355811e+18\n",
      "-2.791468707900031e+18\n",
      "-2.7734273713556685e+18\n",
      "-2.732968916866302e+18\n",
      "-2.7960509226087875e+18\n",
      "-5.172175814581551e+18\n",
      "-5.125453167470838e+18\n",
      "-5.102756498694472e+18\n",
      "-2.5127199702704456e+18\n",
      "-2.7763421766809027e+18\n",
      "-2.7470335947309056e+18\n",
      "-2.810282451362906e+18\n",
      "-2.7813735418896056e+18\n",
      "-3.39414758984568e+18\n",
      "-3.1693153290294395e+18\n",
      "-2.5183557919965184e+18\n",
      "-2.79038761309202e+18\n",
      "-2.8569110902294446e+18\n",
      "-2.8280054792910275e+18\n",
      "-2.795595999672795e+18\n"
     ]
    }
   ],
   "source": [
    "for i in range(50000):\n",
    "    L = Bernoulli(logits=X_train@W).log_prob(Y_train).sum()\n",
    "\n",
    "    dW = t.autograd.grad(outputs=L, inputs=(W,))[0]\n",
    "    if 0==i % 1000:\n",
    "        print(L.item())\n",
    "    W.data += 0.001*dW"
   ],
   "metadata": {
    "collapsed": false,
    "pycharm": {
     "name": "#%%\n"
    }
   }
  },
  {
   "cell_type": "code",
   "execution_count": null,
   "outputs": [],
   "source": [
    "def class_error(X, Y):\n",
    "    Py = Bernoulli(logits=X@W)\n",
    "    pred = 0.5 < Py.probs\n",
    "    N_correct = (pred == Y).sum()\n",
    "    print(f\"{N_correct}/{X.shape[0]} = {100.*N_correct/X.shape[0]}%\")\n",
    "\n",
    "print(\"Training correct\")\n",
    "class_error(X_train, Y_train)\n",
    "\n",
    "print(\"Test correct\")\n",
    "class_error(X_test, Y_test)"
   ],
   "metadata": {
    "collapsed": false,
    "pycharm": {
     "name": "#%%\n"
    }
   }
  },
  {
   "cell_type": "code",
   "execution_count": 80,
   "outputs": [
    {
     "name": "stderr",
     "output_type": "stream",
     "text": [
      "/tmp/ipykernel_30453/2631319932.py:19: UserWarning: No contour levels were found within the data range.\n",
      "  ax.contour(x0s, x1s, 0.5<ps);\n"
     ]
    },
    {
     "data": {
      "text/plain": "<Figure size 432x288 with 1 Axes>",
      "image/png": "[encoded data removed]"
     },
     "metadata": {
      "needs_background": "light"
     },
     "output_type": "display_data"
    }
   ],
   "source": [
    "feature1 = 6\n",
    "feature2 = 7\n",
    "\n",
    "fig, ax = plt.subplots()\n",
    "ax.set_xlabel(headers[feature1])\n",
    "ax.set_ylabel(headers[feature2])\n",
    "ax.scatter(X[:, feature1], X[:, feature2], c=Y)\n",
    "\n",
    "x0range = t.linspace(*ax.get_xlim(), 500)\n",
    "x1range = t.linspace(*ax.get_ylim(), 500)\n",
    "\n",
    "x0s, x1s = t.meshgrid(x0range, x1range)\n",
    "xs = t.stack([x0s, x1s, t.ones(500, 500)], -1)\n",
    "\n",
    "W_reduce = t.tensor([W[feature1], W[feature2], W[len(W)-1]])\n",
    "W_reduce = t.unsqueeze(W_reduce, 0).t()\n",
    "\n",
    "ps = Bernoulli(logits=xs@W_reduce.detach()).probs[:, :, 0]\n",
    "ax.contour(x0s, x1s, 0.5<ps);"
   ],
   "metadata": {
    "collapsed": false,
    "pycharm": {
     "name": "#%%\n"
    }
   }
  },
  {
   "cell_type": "markdown",
   "source": [
    "## Feature Selection\n",
    "\n",
    "Now that we have a preprocessed subset of the dataset we need to perform **dimensionality reduction** to remove any features which will not be as useful to the classifier, this can be done via ** Heuristic Feature Selection**. To do this it is assumed that the features are independent (although in reality this is not the case) and a top-down approach can be taken by removing the worst features."
   ],
   "metadata": {
    "collapsed": false,
    "pycharm": {
     "name": "#%% md\n"
    }
   }
  },
  {
   "cell_type": "code",
   "execution_count": null,
   "outputs": [],
   "source": [],
   "metadata": {
    "collapsed": false,
    "pycharm": {
     "name": "#%%\n"
    }
   }
  }
 ],
 "metadata": {
  "kernelspec": {
   "display_name": "Python 3",
   "language": "python",
   "name": "python3"
  },
  "language_info": {
   "codemirror_mode": {
    "name": "ipython",
    "version": 2
   },
   "file_extension": ".py",
   "mimetype": "text/x-python",
   "name": "python",
   "nbconvert_exporter": "python",
   "pygments_lexer": "ipython2",
   "version": "2.7.6"
  }
 },
 "nbformat": 4,
 "nbformat_minor": 0
}