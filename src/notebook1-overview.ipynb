{
 "cells": [
  {
   "cell_type": "code",
   "execution_count": 27,
   "outputs": [],
   "source": [
    "import importer\n",
    "import numpy as np\n",
    "import matplotlib.pyplot as plt"
   ],
   "metadata": {
    "collapsed": false,
    "pycharm": {
     "name": "#%%\n"
    }
   }
  },
  {
   "cell_type": "markdown",
   "source": [
    "# Understanding the Data\n",
    "\n",
    "Strava allows a user to download all of their collected data since starting to use the app. The data used in the project will not use all the data that Strava lets you export but will only focus on the data contained in activities.csv. This was done mostly in the interest of privacy to restrict what I share publicly, but also because this file should provide the most useful data for this project.\n",
    "\n",
    "To understand the data available, the headings and their corresponding data types can be extracted and displayed."
   ],
   "metadata": {
    "collapsed": false
   }
  },
  {
   "cell_type": "code",
   "execution_count": 28,
   "outputs": [
    {
     "name": "stdout",
     "output_type": "stream",
     "text": [
      "Total activities:  172\n",
      "Headers and associated types:\n",
      " [['Activity ID' 'int']\n",
      " ['Activity Date' 'string']\n",
      " ['Activity Name' 'string']\n",
      " ['Activity Type' 'string']\n",
      " ['Elapsed Time' 'int']\n",
      " ['Distance' 'float']\n",
      " ['Commute' 'bool']\n",
      " ['Activity Gear' 'string']\n",
      " ['Filename' 'string']\n",
      " ['Elapsed Time2' 'int']\n",
      " ['Moving Time' 'int']\n",
      " ['Distance3' 'float']\n",
      " ['Max Speed' 'float']\n",
      " ['Average Speed' 'float']\n",
      " ['Elevation Gain' 'float']\n",
      " ['Elevation Loss' 'float']\n",
      " ['Elevation Low' 'float']\n",
      " ['Elevation High' 'float']\n",
      " ['Max Grade' 'float']\n",
      " ['Average Grade' 'float']\n",
      " ['Average Watts' 'float']\n",
      " ['Calories' 'float']\n",
      " ['Perceived Exertion' 'int']\n",
      " ['Perceived Relative Effort' 'int']\n",
      " ['From Upload' 'int']\n",
      " ['Grade Adjusted Distance' 'float']\n",
      " ['Weather Observation Time' 'int']\n",
      " ['Weather Condition' 'int']\n",
      " ['Weather Temperature' 'float']\n",
      " ['Apparent Temperature' 'float']\n",
      " ['Dewpoint' 'float']\n",
      " ['Humidity' 'float']\n",
      " ['Weather Pressure' 'float']\n",
      " ['Wind Speed' 'float']\n",
      " ['Wind Gust' 'float']\n",
      " ['Wind Bearing' 'int']\n",
      " ['Precipitation Intensity' 'float']\n",
      " ['Sunrise Time' 'int']\n",
      " ['Sunset Time' 'int']\n",
      " ['Moon Phase' 'float']\n",
      " ['Precipitation Probability' 'float']\n",
      " ['Precipitation Type' 'int']\n",
      " ['Cloud Cover' 'float']\n",
      " ['Weather Visibility' 'int']\n",
      " ['UV Index' 'int']\n",
      " ['Weather Ozone' 'float']]\n"
     ]
    }
   ],
   "source": [
    "data_set = importer.Data()\n",
    "headers_and_types = np.array([data_set.headers, data_set.types]).T\n",
    "\n",
    "print('Total activities: ', len(data_set.get_data(['Activity ID'], False)['Activity ID']))\n",
    "\n",
    "print('Headers and associated types:\\n', headers_and_types)"
   ],
   "metadata": {
    "collapsed": false,
    "pycharm": {
     "name": "#%%\n"
    }
   }
  },
  {
   "cell_type": "markdown",
   "source": [
    "It is important to note that not all the dataset is populated with values. For examples, Strava only started keeping a record of weather data beginning with the activity on 26th March 2020.\n",
    "\n",
    "## Breakdown of types of activity\n",
    "\n",
    "One point that this project will need to take into account is the types of activities that are analysed. By the chart below, it is clear that there is far more data Rides and Runs than any other type of activity, therefore, the analysis will focus on these activities."
   ],
   "metadata": {
    "collapsed": false,
    "pycharm": {
     "name": "#%% md\n"
    }
   }
  },
  {
   "cell_type": "code",
   "execution_count": 29,
   "outputs": [
    {
     "data": {
      "text/plain": "<Figure size 432x288 with 1 Axes>",
      "image/png": "[encoded data removed]"
     },
     "metadata": {},
     "output_type": "display_data"
    }
   ],
   "source": [
    "types = data_set.get_data(['Activity Type'])['Activity Type']\n",
    "unique_types = np.unique(types)\n",
    "\n",
    "counts = [types.count(t) for t in unique_types]\n",
    "labels = [unique_types[i] + ' - ' + str(counts[i]) for i in range(len(unique_types))]\n",
    "\n",
    "plt.pie(counts)\n",
    "plt.legend(labels)\n",
    "plt.show()"
   ],
   "metadata": {
    "collapsed": false,
    "pycharm": {
     "name": "#%%\n"
    }
   }
  },
  {
   "cell_type": "code",
   "execution_count": 29,
   "outputs": [],
   "source": [],
   "metadata": {
    "collapsed": false,
    "pycharm": {
     "name": "#%%\n"
    }
   }
  }
 ],
 "metadata": {
  "kernelspec": {
   "display_name": "Python 3",
   "language": "python",
   "name": "python3"
  },
  "language_info": {
   "codemirror_mode": {
    "name": "ipython",
    "version": 2
   },
   "file_extension": ".py",
   "mimetype": "text/x-python",
   "name": "python",
   "nbconvert_exporter": "python",
   "pygments_lexer": "ipython2",
   "version": "2.7.6"
  }
 },
 "nbformat": 4,
 "nbformat_minor": 0
}